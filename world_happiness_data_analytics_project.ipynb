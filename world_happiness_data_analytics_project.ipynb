{
  "nbformat": 4,
  "nbformat_minor": 0,
  "metadata": {
    "colab": {
      "name": "COMP5152 project",
      "provenance": [],
      "collapsed_sections": []
    },
    "kernelspec": {
      "display_name": "Python 3",
      "name": "python3"
    },
    "language_info": {
      "name": "python"
    }
  },
  "cells": [
    {
      "cell_type": "markdown",
      "metadata": {
        "id": "gQuYhRQtG5bk"
      },
      "source": [
        "# COMP5152 World Happiness Report"
      ]
    },
    {
      "cell_type": "markdown",
      "metadata": {
        "id": "4Ofkn3GJYKbR"
      },
      "source": [
        "Mount Google Drive. Import data (Put two .csv files under /content/drive/MyDrive/Colab Notebooks directory)"
      ]
    },
    {
      "cell_type": "code",
      "metadata": {
        "id": "rAWKv5PkOo2d"
      },
      "source": [
        "from google.colab import drive\n",
        "drive.mount('/content/drive')\n",
        "%cd '/content/drive/MyDrive/Colab Notebooks'"
      ],
      "execution_count": null,
      "outputs": []
    },
    {
      "cell_type": "markdown",
      "metadata": {
        "id": "HPzs_GXSL9vW"
      },
      "source": [
        "# Libraries and Utilities"
      ]
    },
    {
      "cell_type": "markdown",
      "metadata": {
        "id": "AO-z_oxbfAYQ"
      },
      "source": [
        "Here below lines we install libraries: \n",
        "\n",
        "*pycountry* to provides the ISO databases for the country name standards\n",
        "\n",
        "*geopandas* to add support for geographic data to pandas objects\n",
        "\n",
        "*kneed* is a repository to implement the kneedle algorithm\n",
        "\n",
        "*pandas-visual-analysis* is a widget for dataset visualization"
      ]
    },
    {
      "cell_type": "code",
      "metadata": {
        "id": "2hLcCHOKxl6o"
      },
      "source": [
        "!pip install pycountry\n",
        "!pip install geopandas\n",
        "!pip install kneed\n",
        "!pip install pandas-visual-analysis"
      ],
      "execution_count": null,
      "outputs": []
    },
    {
      "cell_type": "code",
      "metadata": {
        "id": "N1EyJPv0L9TB"
      },
      "source": [
        "# For data processing\n",
        "import pandas as pd\n",
        "import numpy as np\n",
        "\n",
        "# For data visualization\n",
        "from pandas_visual_analysis import VisualAnalysis\n",
        "import matplotlib.pyplot as plt\n",
        "import matplotlib.colors\n",
        "import seaborn as sns\n",
        "import os\n",
        "import pycountry\n",
        "import geopandas\n",
        "\n",
        "# For Exploratory Data Analysis\n",
        "from scipy.stats import ttest_ind\n",
        "from sklearn.linear_model import LinearRegression\n",
        "from sklearn.preprocessing import MinMaxScaler\n",
        "\n",
        "# For Modelling\n",
        "from sklearn.model_selection import train_test_split\n",
        "from sklearn.preprocessing import StandardScaler\n",
        "from sklearn.cluster import KMeans\n",
        "import tensorflow as tf\n",
        "from kneed import KneeLocator"
      ],
      "execution_count": null,
      "outputs": []
    },
    {
      "cell_type": "code",
      "metadata": {
        "id": "GFe87koaU8Xp"
      },
      "source": [
        "happiness_2021_path = \"world-happiness-report-2021.csv\"\n",
        "happiness_path = \"world-happiness-report.csv\"\n",
        "happiness_2021_df = pd.read_csv(happiness_2021_path)\n",
        "happiness_df = pd.read_csv(happiness_path)"
      ],
      "execution_count": null,
      "outputs": []
    },
    {
      "cell_type": "markdown",
      "metadata": {
        "id": "AQdayxmY49T5"
      },
      "source": [
        "#Data Preprocessing"
      ]
    },
    {
      "cell_type": "markdown",
      "metadata": {
        "id": "tKO5iX93U2Pa"
      },
      "source": [
        "## Data Validation and Filtering\n",
        "\n",
        "\n",
        "\n"
      ]
    },
    {
      "cell_type": "code",
      "metadata": {
        "id": "qUxyViWEkMqA"
      },
      "source": [
        "# For world-happiness-report-2021.csv\n",
        "VisualAnalysis(happiness_2021_df)\n",
        "categorical = [\"Country name\", \"Regional indicator\"]\n",
        "VisualAnalysis(happiness_2021_df, categorical_columns=categorical)"
      ],
      "execution_count": null,
      "outputs": []
    },
    {
      "cell_type": "code",
      "metadata": {
        "id": "rO09lk2mkSp3"
      },
      "source": [
        "# For world-happiness-report.csv\n",
        "VisualAnalysis(happiness_df)\n",
        "categorical = [\"Country name\"]\n",
        "VisualAnalysis(happiness_df, categorical_columns=categorical)"
      ],
      "execution_count": null,
      "outputs": []
    },
    {
      "cell_type": "code",
      "metadata": {
        "id": "3fo1o_BoYcew"
      },
      "source": [
        "# Drop unused columns in 2 dataset\n",
        "step_1_drops = [\"Explained by: Log GDP per capita\",\"Explained by: Social support\",\n",
        "                \"Explained by: Healthy life expectancy\",\"Explained by: Freedom to make life choices\",\n",
        "                \"Explained by: Generosity\",\"Explained by: Perceptions of corruption\"]\n",
        "happiness_2021_df.drop(columns=step_1_drops, inplace=True)\n",
        "\n",
        "step_2_drops = [\"Standard error of ladder score\",\"upperwhisker\", \"lowerwhisker\",\n",
        "                \"Ladder score in Dystopia\",\"Dystopia + residual\"]\n",
        "happiness_2021_df.drop(columns=step_2_drops, inplace=True)\n",
        "\n",
        "step_3_drops = [\"Positive affect\",\"Negative affect\"]\n",
        "happiness_df.drop(columns=step_3_drops, inplace=True)"
      ],
      "execution_count": null,
      "outputs": []
    },
    {
      "cell_type": "markdown",
      "metadata": {
        "id": "59ebF-54aLhK"
      },
      "source": [
        "## Data Organizing and Combination"
      ]
    },
    {
      "cell_type": "markdown",
      "metadata": {
        "id": "Rap6CFEraSZV"
      },
      "source": [
        "In \"world-happiness-report-2021.csv\":\n",
        "1. Rename \"Logged GDP per capita\" to \"Log GDP per capita\", \"Healthy life expectancy\" to \"Healthy life expectancy at birth\"\n",
        "2. Add \"Year\" column with value 2021\n",
        "\n",
        "In \"world-happiness-report.csv\":\n",
        "1. Rename \"Life Ladder\" to \"Ladder score\", \"year\" to \"Year\"\n",
        "2. Add \"Regional indicator\" column\n",
        "\n",
        "Merge the 2 dataset to obtain dataset year range from 2005-2021, sort by country name and year\n"
      ]
    },
    {
      "cell_type": "code",
      "metadata": {
        "id": "zbZRQvA2a331"
      },
      "source": [
        "happiness_2021_df.rename(columns={\"Logged GDP per capita\": \"Log GDP per capita\",\n",
        "                          \"Healthy life expectancy\": \"Healthy life expectancy at birth\"}, inplace=True)\n",
        "happiness_2021_df.insert(2, \"Year\", 2021, True)\n",
        "\n",
        "happiness_df.rename(columns={\"Life Ladder\": \"Ladder score\",'year': 'Year'}, inplace=True)\n",
        "happiness_df.insert(1,'Regional indicator','')\n",
        "\n",
        "df_merged = pd.concat([happiness_df, happiness_2021_df])\n",
        "df_merged.sort_values(by=['Country name', 'Year'], ascending=[1, 0], inplace=True)\n",
        "df_merged.head()"
      ],
      "execution_count": null,
      "outputs": []
    },
    {
      "cell_type": "markdown",
      "metadata": {
        "id": "kN5RKNrfnYja"
      },
      "source": [
        "## Missing Values Handling"
      ]
    },
    {
      "cell_type": "markdown",
      "metadata": {
        "id": "WNxYy7WxBUD7"
      },
      "source": [
        "I. Missing categorial data:\n",
        "\n",
        "1. Replace missing regional indicators value by looking up 2021 record data\n",
        "2. For the unavailable 'regional indicator' values in 17 countries, we find the real region value from internet and fill in the dataset"
      ]
    },
    {
      "cell_type": "code",
      "metadata": {
        "id": "tyVKhB9qFTw4"
      },
      "source": [
        "uni_country_list=df_merged['Country name'].unique()\n",
        "for country in uni_country_list:\n",
        "    df_this_country = df_merged[df_merged['Country name']==country]\n",
        "    if 2021 in df_this_country.Year.values:\n",
        "        region = df_this_country[df_this_country['Year'] == 2021].iloc[0].values[1]\n",
        "        df_merged.loc[df_merged['Country name']==country,['Regional indicator']] = region"
      ],
      "execution_count": null,
      "outputs": []
    },
    {
      "cell_type": "code",
      "metadata": {
        "id": "wXP0fNzXOcop"
      },
      "source": [
        "df_merged.loc[(df_merged['Country name'] == 'Angola'),'Regional indicator']='Sub-Saharan Africa'\n",
        "df_merged.loc[(df_merged['Country name'] == 'Belize'),'Regional indicator']='Latin America and Caribbean'\n",
        "df_merged.loc[(df_merged['Country name'] == 'Bhutan'),'Regional indicator']='South Asia'\n",
        "df_merged.loc[(df_merged['Country name'] == 'Central African Republic'),'Regional indicator']='Sub-Saharan Africa'\n",
        "df_merged.loc[(df_merged['Country name'] == 'Congo (Kinshasa)'),'Regional indicator']='Sub-Saharan Africa'\n",
        "df_merged.loc[(df_merged['Country name'] == 'Cuba'),'Regional indicator']='North America and ANZ'\n",
        "df_merged.loc[(df_merged['Country name'] == 'Djibouti'),'Regional indicator']='Sub-Saharan Africa'\n",
        "df_merged.loc[(df_merged['Country name'] == 'Guyana'),'Regional indicator']='Latin America and Caribbean'\n",
        "df_merged.loc[(df_merged['Country name'] == 'Oman'),'Regional indicator']='Middle East and North Africa'\n",
        "df_merged.loc[(df_merged['Country name'] == 'Qatar'),'Regional indicator']='Middle East and North Africa'\n",
        "df_merged.loc[(df_merged['Country name'] == 'Somalia'),'Regional indicator']='Middle East and North Africa'\n",
        "df_merged.loc[(df_merged['Country name'] == 'Somaliland region'),'Regional indicator']='Middle East and North Africa'\n",
        "df_merged.loc[(df_merged['Country name'] == 'South Sudan'),'Regional indicator']='Sub-Saharan Africa'\n",
        "df_merged.loc[(df_merged['Country name'] == 'Sudan'),'Regional indicator']='Sub-Saharan Africa'\n",
        "df_merged.loc[(df_merged['Country name'] == 'Suriname'),'Regional indicator']='Latin America and Caribbean'\n",
        "df_merged.loc[(df_merged['Country name'] == 'Syria'),'Regional indicator']='Middle East and North Africa'\n",
        "df_merged.loc[(df_merged['Country name'] == 'Trinidad and Tobago'),'Regional indicator']='Latin America and Caribbean'\n",
        "df_merged.head()"
      ],
      "execution_count": null,
      "outputs": []
    },
    {
      "cell_type": "markdown",
      "metadata": {
        "id": "CG_E-VV8TWA2"
      },
      "source": [
        "II. Missing numerical data:\n",
        "\n",
        "1. Replace 6 factors' individual missing values using linear regression with their corresponding country's column values among 2005-2021\n",
        "2. If available records for training the model <=2, replace the missing values by the corresponding country's column mean instead\n"
      ]
    },
    {
      "cell_type": "code",
      "metadata": {
        "id": "01sJNir75rfG"
      },
      "source": [
        "# Replace 6 factors' missing values by regression with their corresponding year and countries\n",
        "uni_country_list=df_merged['Country name'].unique()\n",
        "for country in uni_country_list:\n",
        "    df_this_country = df_merged[df_merged['Country name']==country]\n",
        "    if df_this_country[df_this_country.columns[-6:]].isnull().values.any():\n",
        "        for i in range(4,10):\n",
        "            if (df_this_country[df_this_country.columns[i]].isnull().values.any()) and not(df_this_country[df_this_country.columns[i]].isnull().all()):\n",
        "                col_name=df_this_country.columns[i]\n",
        "                temp_train = df_this_country.loc[~df_this_country[col_name].isnull()]\n",
        "                temp_test = df_this_country.loc[df_this_country[col_name].isnull()]\n",
        "                if len(temp_train.index)<3 :\n",
        "                    df_merged.loc[(df_merged['Country name']==country)&(df_merged[col_name].isnull()),[col_name]] = round(temp_train[col_name].sum()/len(temp_train.index),3)\n",
        "                else:    \n",
        "                    X_train = np.array(temp_train['Year']).reshape(-1,1)\n",
        "                    Y_train = np.array(temp_train[col_name]).reshape(-1,1)\n",
        "                    X_test = np.array(temp_test['Year']).reshape(-1,1)\n",
        "                    yf_reg = LinearRegression().fit(X_train, Y_train)\n",
        "                    Y_test = yf_reg.predict(X_test)\n",
        "                    # Plot graph\n",
        "                    plt.figure(figsize=(8,4))\n",
        "                    plt.scatter(X_train, Y_train, color='black')\n",
        "                    plt.scatter(X_test, Y_test, color='red')\n",
        "                    plt.plot(X_test, Y_test, color='blue', linewidth=3)\n",
        "                    plt.xlabel(\"Year\", fontsize=10)\n",
        "                    plt.ylabel(col_name, fontsize=10)\n",
        "                    plt.xticks(fontsize=10)\n",
        "                    plt.yticks(fontsize=10)\n",
        "                    plt.title(\"Predict ''\"+col_name+\"'' in \"+country)\n",
        "                    plt.show()\n",
        "                    # Update missing value\n",
        "                    for i in range(len(temp_test.index)):\n",
        "                        df_merged.loc[(df_merged['Country name']==country)&(df_merged['Year']==temp_test['Year'].iloc[i]),[col_name]] = round(Y_test[i][0],3)\n",
        "  \n",
        "  # For the scatter plots, red points are the predicted values for the missing data"
      ],
      "execution_count": null,
      "outputs": []
    },
    {
      "cell_type": "markdown",
      "metadata": {
        "id": "OSCo1u9PY7pm"
      },
      "source": [
        "III. Dataset review and record removal\n",
        "\n",
        "1. Analysis for the countries and features that have the whole column missing situtation\n",
        "2. Remove records in the dataset, which countries having >= 2/6 missing columns in the six evaluation factors\n",
        "\n"
      ]
    },
    {
      "cell_type": "code",
      "metadata": {
        "id": "Zr5UiFvNFbAX"
      },
      "source": [
        "print(\"Countries with missing values for the whole column(s):\")\n",
        "print(\"------------------------------------------------------\")\n",
        "missing_country_list = []\n",
        "for country in uni_country_list:\n",
        "    df_this_country = df_merged[df_merged['Country name']==country]  \n",
        "    if df_this_country[df_this_country.columns[-6:]].isnull().values.any():\n",
        "        missing_country_list.append(country)\n",
        "        temp_col=[]\n",
        "        for i in range(4,10):\n",
        "            if df_this_country[df_this_country.columns[i]].isnull().values.any():\n",
        "                temp_col.append(df_this_country.columns[i])\n",
        "        print(f\"{country:<20}{', '.join(temp_col):<10}\")\n",
        "\n",
        "# Show the dataset with missing columns\n",
        "df_merged[df_merged.isnull().any(axis=1)]"
      ],
      "execution_count": null,
      "outputs": []
    },
    {
      "cell_type": "code",
      "metadata": {
        "id": "ZCAjd-asFDsH"
      },
      "source": [
        "# Remove country records with missing columns >=2\n",
        "# 13 records to be removed in total\n",
        "df_merged = df_merged[~df_merged['Country name'].isin(missing_country_list)]\n",
        "\n",
        "# Output df_merged as csv\n",
        "merged_happiness_path = \"merged-world-happiness-dataset.csv\"\n",
        "df_merged.to_csv(merged_happiness_path,index=False)\n",
        "\n",
        "# Entire dataset has values after data preprocessing\n",
        "print(df_merged.isnull().sum())\n",
        "df_merged"
      ],
      "execution_count": null,
      "outputs": []
    },
    {
      "cell_type": "markdown",
      "metadata": {
        "id": "1GnVnZhjO4Mg"
      },
      "source": [
        "# Insight"
      ]
    },
    {
      "cell_type": "markdown",
      "metadata": {
        "id": "i1G15o43QuRy"
      },
      "source": [
        "## Top 5 countries by ladder score mean during 2005-2021"
      ]
    },
    {
      "cell_type": "code",
      "metadata": {
        "id": "S4GrLX03O8qy"
      },
      "source": [
        "df_merged[['Country name','Regional indicator','Ladder score']].groupby(['Country name','Regional indicator']).mean().sort_values(by='Ladder score',ascending=False)[:5]"
      ],
      "execution_count": null,
      "outputs": []
    },
    {
      "cell_type": "markdown",
      "metadata": {
        "id": "tKN6E9L8Q1QW"
      },
      "source": [
        "## Bottom 5 countries by ladder score mean during 2005-2021"
      ]
    },
    {
      "cell_type": "code",
      "metadata": {
        "id": "g0HB8jdqQigN"
      },
      "source": [
        "df_merged[['Country name','Regional indicator','Ladder score']].groupby(['Country name','Regional indicator']).mean().sort_values(by='Ladder score',ascending=True)[:5]"
      ],
      "execution_count": null,
      "outputs": []
    },
    {
      "cell_type": "code",
      "metadata": {
        "id": "jPVK87Z6OWWM"
      },
      "source": [
        "# inspiration ; https://www.kaggle.com/gaetanlopez/how-to-make-clean-visualizations\n",
        "# changed code signif.\n",
        "\n",
        "fig = plt.figure(figsize=(6,3),dpi=150)\n",
        "gs = fig.add_gridspec(1, 1)\n",
        "gs.update(wspace=0.2, hspace=0.4)\n",
        "ax0 = fig.add_subplot(gs[0, 0])\n",
        "\n",
        "background_color = \"#fafafa\"\n",
        "high_c = 'red'\n",
        "low_c ='green'\n",
        "fig.patch.set_facecolor(background_color) # figure background color\n",
        "ax0.set_facecolor(background_color) \n",
        "\n",
        "ax0.text(1.167,0.85,\"World Happiness Index from 2005 to 2021\",color='#323232',fontsize=28, fontweight='bold', fontfamily='sanserif',ha='center')\n",
        "ax0.text(1.13,-0.35,\"stand-out facts\",color='lightgray',fontsize=28, fontweight='bold', fontfamily='monospace',ha='center')\n",
        "\n",
        "ax0.text(0,0.4,\"Denmark\",color=high_c,fontsize=25, fontweight='bold', fontfamily='monospace',ha='center')\n",
        "ax0.text(0,0.1,\"Happiest\",color='gray',fontsize=15, fontfamily='monospace',ha='center')\n",
        "\n",
        "ax0.text(0.77,0.4,\"7 of top 10\",color=high_c,fontsize=25, fontweight='bold', fontfamily='monospace',ha='center')\n",
        "ax0.text(0.75,0.1,\"in Europe\",color='gray',fontsize=15, fontfamily='monospace',ha='center')\n",
        "\n",
        "ax0.text(1.5,0.4,\"8 of bottom 10\",color=low_c,fontsize=25, fontweight='bold', fontfamily='monospace',ha='center')\n",
        "ax0.text(1.5,0.1,\"in Africa\",color='gray',fontsize=15, fontfamily='monospace',ha='center')\n",
        "\n",
        "ax0.text(2.25,0.4,\"Afghanistan\",color=low_c,fontsize=25, fontweight='bold', fontfamily='monospace',ha='center')\n",
        "ax0.text(2.25,0.1,\"Unhappiest\",color='gray',fontsize=15, fontfamily='monospace',ha='center')\n",
        "\n",
        "ax0.set_yticklabels('')\n",
        "ax0.set_xticklabels('')\n",
        "ax0.tick_params(axis='both',length=0)\n",
        "\n",
        "for s in ['top','right','left','bottom']:\n",
        "    ax0.spines[s].set_visible(False)\n",
        "    \n",
        "import matplotlib.lines as lines\n",
        "l1 = lines.Line2D([0.15, 1.95], [0.67, 0.67], transform=fig.transFigure, figure=fig,color = 'gray', linestyle='-',linewidth = 1.1, alpha = .5)\n",
        "fig.lines.extend([l1])\n",
        "l2 = lines.Line2D([0.15, 1.95], [0.07, 0.07], transform=fig.transFigure, figure=fig,color = 'gray', linestyle='-',linewidth = 1.1, alpha = .5)\n",
        "fig.lines.extend([l2])\n",
        "    \n",
        "plt.show()"
      ],
      "execution_count": null,
      "outputs": []
    },
    {
      "cell_type": "code",
      "metadata": {
        "id": "-9LAJmBNOvcF"
      },
      "source": [
        "fig = plt.figure(figsize=(15,15),dpi=150)\n",
        "gs = fig.add_gridspec(1, 1)\n",
        "gs.update(wspace=0.05, hspace=0.27)\n",
        "ax0 = fig.add_subplot(gs[0, 0])\n",
        "\n",
        "\n",
        "background_color = \"#fafafa\"\n",
        "fig.patch.set_facecolor(background_color) # figure background color\n",
        "ax0.set_facecolor(background_color) \n",
        "\n",
        "hap = df_merged.groupby('Country name')['Ladder score'].mean().sort_values(ascending=False)[:10]\n",
        "unhap = df_merged.groupby('Country name')['Ladder score'].mean().sort_values(ascending=True)[:10]\n",
        "top_bottom = hap.append(unhap, ignore_index=False).sort_values(ascending=True)\n",
        "# Plots \n",
        "# Happiest\n",
        "data = top_bottom\n",
        "\n",
        "color_map = ['#e7e9e7' for _ in range(20)]\n",
        "color_map[0] = color_map[1] = color_map[2] =  low_c # color highlight\n",
        "color_map[17] = color_map[18] = color_map[19] =  high_c \n",
        "#base\n",
        "ax0.barh(data.index, 10, \n",
        "       edgecolor='darkgray',color='lightgray',alpha=0.1)\n",
        "# actual\n",
        "ax0.barh(data.index, data, \n",
        "       edgecolor='darkgray',color=color_map)\n",
        "\n",
        "for i in range(0,20):\n",
        "    ax0.annotate(list(data.index)[i], \n",
        "                   xy=(data[i]-(data[i]*0.01), i), \n",
        "                   va = 'center', ha='right',fontweight='light', fontfamily='monospace',fontsize=15, color='gray',rotation=0)\n",
        "# diff color text\n",
        "for i in range(0,3):\n",
        "    ax0.annotate(list(data.index)[i], \n",
        "                   xy=(data[i]-(data[i]*0.01), i), \n",
        "                   va = 'center', ha='right',fontweight='light', fontfamily='monospace',fontsize=15, color='white',rotation=0)\n",
        "\n",
        "for i in range(17,20):\n",
        "    ax0.annotate(list(data.index)[i], \n",
        "                   xy=(data[i]-(data[i]*0.01), i), \n",
        "                   va = 'center', ha='right',fontweight='light', fontfamily='monospace',fontsize=15, color='white',rotation=0)\n",
        "    \n",
        "\n",
        "ax0.axes.get_xaxis().set_ticks([])\n",
        "ax0.axes.get_yaxis().set_ticks([])\n",
        "\n",
        "\n",
        "for s in ['top', 'bottom', 'right']:\n",
        "    ax0.spines[s].set_visible(False)\n",
        "    \n",
        "ax0.text(0,22.5,'The Happiest & Unhappiest Countries in the World',fontfamily='sans-serif',fontsize=20,fontweight='bold',color='#323232')\n",
        "ax0.text(0,21.3,'As per observations, countries from Scandinavia are the happiest whereas countries from Africa\\nare the unhappiest. We will investigate how these countries differ with six factors provided.',fontfamily='monospace',fontsize=15,fontweight='light',color='gray')\n",
        "\n",
        "plt.show()"
      ],
      "execution_count": null,
      "outputs": []
    },
    {
      "cell_type": "markdown",
      "metadata": {
        "id": "BYDN-ZLFngnQ"
      },
      "source": [
        "# Data Visualization"
      ]
    },
    {
      "cell_type": "code",
      "metadata": {
        "id": "5V2sNKwNoE9O"
      },
      "source": [
        "world = geopandas.read_file(geopandas.datasets.get_path('naturalearth_lowres'))\n",
        "print(world)\n",
        "location = pd.read_csv('https://raw.githubusercontent.com/melanieshi0120/COVID-19_global_time_series_panel_data/master/data/countries_latitude_longitude.csv')\n",
        "location.rename(columns={\"name\": \"Country name\"}, inplace=True)\n",
        "#print(df_merged, location)\n",
        "df_merged = pd.merge(df_merged, location, on=\"Country name\", how=\"left\")\n",
        "#description = df_merged.describe().drop(columns=[\"Year\"])\n",
        "#df_merged.plot(column=\"Ladder score\", scheme=\"quantiles\", fig_size=(25,20), legend=True, cmap=\"coolwarm\")\n",
        "world.to_csv(\"world.csv\")\n",
        "location.to_csv(\"location.csv\")\n",
        "df_merged.to_csv(\"merged.csv\")"
      ],
      "execution_count": null,
      "outputs": []
    },
    {
      "cell_type": "markdown",
      "metadata": {
        "id": "ZHstjFcDYUtQ"
      },
      "source": [
        "## Data Distribution Visualization"
      ]
    },
    {
      "cell_type": "markdown",
      "metadata": {
        "id": "lTlVbQVxRGOh"
      },
      "source": [
        "### Countries and observation distribution by regional indicator"
      ]
    },
    {
      "cell_type": "code",
      "metadata": {
        "id": "6lpCwqxIbd6v"
      },
      "source": [
        "df_merged[['Country name','Regional indicator']].groupby(['Regional indicator']).agg(['count','nunique'])"
      ],
      "execution_count": null,
      "outputs": []
    },
    {
      "cell_type": "markdown",
      "metadata": {
        "id": "9mGdz4hWq6V5"
      },
      "source": [
        "### Bar Charts"
      ]
    },
    {
      "cell_type": "code",
      "metadata": {
        "id": "JB6KRzXxYUPx"
      },
      "source": [
        "df_merged.hist(figsize=(20,20))"
      ],
      "execution_count": null,
      "outputs": []
    },
    {
      "cell_type": "code",
      "metadata": {
        "id": "3Q4-1kM-OBP0"
      },
      "source": [
        "df_merged.describe().T"
      ],
      "execution_count": null,
      "outputs": []
    },
    {
      "cell_type": "code",
      "metadata": {
        "id": "HQITydJkK5U_"
      },
      "source": [
        "fig=plt.figure(figsize=(15,8))\n",
        "plt.title(\"Data distribution by Regional indicator\",family='Serif', weight='bold', size=20)\n",
        "sns.boxplot(x=df_merged['Ladder score'],y=df_merged['Regional indicator'])\n",
        "plt.axvline(df_merged['Ladder score'].mean(), c='black',ls='--')\n",
        "plt.text(x=df_merged['Ladder score'].mean(),y=6.5,s='Population mean', size=15, horizontalalignment='center')"
      ],
      "execution_count": null,
      "outputs": []
    },
    {
      "cell_type": "markdown",
      "metadata": {
        "id": "p2Zl6JqeWmx1"
      },
      "source": [
        "## Over the time plots"
      ]
    },
    {
      "cell_type": "code",
      "metadata": {
        "id": "sqWfnsD7m-fP"
      },
      "source": [
        "background = \"#fbfbfb\"\n",
        "low_c = '#dd4124'\n",
        "high_c = '#009473'\n",
        "fig, ax = plt.subplots(1,1, figsize=(10, 5),dpi=150)\n",
        "fig.patch.set_facecolor(background) # figure background color\n",
        "ax.set_facecolor(background)\n",
        "\n",
        "# Reduced list as too many to show all at once \n",
        "top_list_ = df_merged.groupby('Country name')['Ladder score'].mean().sort_values(ascending=False).reset_index()[:20].sort_values(by='Ladder score',ascending=True)\n",
        "\n",
        "\n",
        "plot = 1\n",
        "for country in top_list_['Country name']:\n",
        "    country_df = df_merged[df_merged['Country name'] == country]\n",
        "    mean = country_df.groupby('Country name')['Ladder score'].mean()\n",
        "    mean_2021 = country_df[country_df['Year'] == 2021].groupby('Country name')['Ladder score'].mean()\n",
        "    # historic scores\n",
        "    sns.scatterplot(data=df_merged[df_merged['Country name'] == country], y=plot, x='Ladder score',color='lightgray',s=50,ax=ax)\n",
        "    # # mean score\n",
        "    sns.scatterplot(data=df_merged[df_merged['Country name'] == country], y=plot, x=mean,color='gold',ec='black',linewidth=1,s=75,ax=ax)\n",
        "    #2021 score\n",
        "    sns.scatterplot(data=df_merged[df_merged['Country name'] == country], y=plot, x=mean_2021,color=high_c,ec='black',linewidth=1,s=75,ax=ax)   \n",
        "    plot += 1\n",
        "\n",
        "\n",
        "ax.set_yticks(top_list_.index+1)\n",
        "ax.set_yticklabels(top_list_['Country name'][::-1], fontdict={'horizontalalignment': 'right'}, alpha=0.7)\n",
        "ax.tick_params(axis=u'both', which=u'both',length=0)\n",
        "ax.set_xlabel(\"Happiness Index Score\",fontfamily='monospace',color='gray')\n",
        "\n",
        "\n",
        "for s in ['top','right','bottom','left']:\n",
        "    ax.spines[s].set_visible(False)\n",
        "    \n",
        "Xstart, Xend = ax.get_xlim()\n",
        "Ystart, Yend = ax.get_ylim()\n",
        "\n",
        "ax.hlines(y=top_list_.index+1, xmin=Xstart, xmax=Xend, color='gray', alpha=0.5, linewidth=.3, linestyles='--')\n",
        "ax.set_axisbelow(True)\n",
        "ax.text(6.25, Yend+4.3, 'Happiness Index Scores through the years', fontsize=17, fontweight='bold', fontfamily='DejaVu Sans',color='#323232')\n",
        "ax.text(6.25, Yend+0.75,\n",
        "'''\n",
        "Countries scores do vary over time, however they remain  farily consistent\n",
        "It is interesting that Finland's 2021 score is amongst the highest of all time\n",
        "''', fontsize=12, fontweight='light', fontfamily='monospace',color='gray')\n",
        "\n",
        "plt.annotate('2021\\nscore', xy=(7.842, 19), xytext=(8.2, 11),\n",
        "             arrowprops=dict(facecolor='steelblue',arrowstyle=\"->\",connectionstyle=\"arc3,rad=.3\"), fontsize=10,fontfamily='monospace',ha='center', color=high_c)\n",
        "\n",
        "plt.annotate('Mean\\nscore', xy=(7.6804, 20), xytext=(8.2, 16),\n",
        "             arrowprops=dict(facecolor='steelblue',arrowstyle=\"->\",connectionstyle=\"arc3,rad=.5\"), fontsize=10,fontfamily='monospace',ha='center', color='gold')\n",
        "\n",
        "\n",
        "plt.show()"
      ],
      "execution_count": null,
      "outputs": []
    },
    {
      "cell_type": "code",
      "metadata": {
        "id": "OBDzV-9ZZBE2"
      },
      "source": [
        "X_transformed = df_merged.copy()\n",
        "X_transformed = X_transformed.drop(columns=['Country name','Regional indicator'])\n",
        "\n",
        "attribute_list = ['Ladder score', 'Log GDP per capita', 'Social support', 'Healthy life expectancy at birth', 'Freedom to make life choices', 'Generosity', 'Perceptions of corruption']\n",
        "\n",
        "#print(X)\n",
        "scaler = MinMaxScaler()\n",
        "X_transformed[attribute_list]=scaler.fit_transform(X_transformed[attribute_list])\n",
        "print(X_transformed)"
      ],
      "execution_count": null,
      "outputs": []
    },
    {
      "cell_type": "markdown",
      "metadata": {
        "id": "f_H0i-xT0RFy"
      },
      "source": [
        "Normalized attributes over the time"
      ]
    },
    {
      "cell_type": "code",
      "metadata": {
        "id": "yn0iJc12NEMm"
      },
      "source": [
        "plt.figure(figsize=(12,7))\n",
        "for column in attribute_list:\n",
        "  sns.lineplot(data=X_transformed,x=\"Year\",y=column,marker='o', label=column)\n",
        "plt.title(\"Normalized attributes over the time\")\n",
        "# plt.legend(loc=\"upper center\")\n",
        "plt.yticks([]) \n",
        "plt.show()"
      ],
      "execution_count": null,
      "outputs": []
    },
    {
      "cell_type": "markdown",
      "metadata": {
        "id": "zjBfMFQI0DtR"
      },
      "source": [
        "Ladder score over time with Regional indicator"
      ]
    },
    {
      "cell_type": "code",
      "metadata": {
        "id": "XoHrhIDPZl5m"
      },
      "source": [
        "plt.figure(figsize=(20,7))\n",
        "sns.lineplot(data=df_merged,x=\"Year\",y=\"Ladder score\", hue='Regional indicator',marker='o')\n",
        "plt.title(\"Ladder score\")\n",
        "plt.show()"
      ],
      "execution_count": null,
      "outputs": []
    },
    {
      "cell_type": "markdown",
      "metadata": {
        "id": "WMp_ZcTRrZbo"
      },
      "source": [
        "## Map visualization"
      ]
    },
    {
      "cell_type": "markdown",
      "metadata": {
        "id": "sH0QV0KH1MRm"
      },
      "source": [
        "Generate ladder scores on map by year"
      ]
    },
    {
      "cell_type": "code",
      "metadata": {
        "colab": {
          "background_save": true
        },
        "id": "C2vIbqgu0QDc"
      },
      "source": [
        "# Geopandas package needs a iso_3 code instead of Country name (e.g. The iso_3 for Hong Kong is 'HKA').\n",
        "# Some country names in pycountry package are different from that in the happiness report.\n",
        "# Conversion of country name is performed.\n",
        "def countryToCode(countries):\n",
        "    code_list = []\n",
        "    for country in countries:\n",
        "      if country == 'Congo (Brazzaville)':\n",
        "        country = 'Congo, The Democratic Republic of the'\n",
        "      if country == 'Congo (Kinshasa)':\n",
        "        country = 'Congo'\n",
        "      if country == 'Czech Republic':\n",
        "        country = 'Czechia'\n",
        "      if country == 'South Korea':\n",
        "        country = 'Korea, Republic of'\n",
        "      if country == 'Taiwan Province of China':\n",
        "        country = 'Taiwan, Province of China'\n",
        "      if country == 'Vietnam':\n",
        "        country = 'Viet Nam'\n",
        "      if country == 'Hong Kong S.A.R. of China':\n",
        "        country = 'Hong Kong'\n",
        "      if country == 'Laos':\n",
        "        country = \"Lao People's Democratic Republic\"\n",
        "      if country == 'North Cyprus':\n",
        "        country = 'Cyprus'\n",
        "      if country == 'Palestinian Territories':\n",
        "        country = 'Palestine, State of'\n",
        "      if country == 'Ivory Coast':\n",
        "        country = \"Côte d'Ivoire\"\n",
        "      if country == 'Swaziland':\n",
        "        country = 'Eswatini'\n",
        "      if country == 'Bolivia':\n",
        "        country = 'Bolivia, Plurinational State of'\n",
        "      if country == 'Iran':\n",
        "        country = 'Iran, Islamic Republic of'\n",
        "      if country == 'Moldova':\n",
        "        country = 'Moldova, Republic of'\n",
        "      if country == 'Russia':\n",
        "        country = 'Russian Federation'\n",
        "      if country == 'Syria':\n",
        "        country = 'Syrian Arab Republic'\n",
        "      if country == 'Tanzania':\n",
        "        country = 'Tanzania, United Republic of'\n",
        "      if country == 'Venezuela':\n",
        "        country = 'Venezuela, Bolivarian Republic of'\n",
        "      try:\n",
        "        code=pycountry.countries.get(name=country).alpha_3\n",
        "        code_list.append(code)\n",
        "      except:\n",
        "        code_list.append('None')\n",
        "    return code_list\n",
        "\n",
        "\n",
        "# To load the world map and fix bugs for some countries\n",
        "world = geopandas.read_file(geopandas.datasets.get_path('naturalearth_lowres'))\n",
        "world.loc[world['name'] == 'France', 'iso_a3'] = 'FRA'\n",
        "world.loc[world['name'] == 'Norway', 'iso_a3'] = 'NOR'\n",
        "world.loc[world['name'] == 'N. Cyprus', 'iso_a3'] = 'CYP'\n",
        "world.loc[world['name'] == 'Somaliland', 'iso_a3'] = 'SOM'\n",
        "world.loc[world['name'] == 'Kosovo', 'iso_a3'] = 'RKS'\n",
        "world.columns=['pop_est', 'continent', 'name', 'CODE', 'gdp_md_est', 'geometry']\n",
        "\n",
        "# set the color scale\n",
        "cmap = matplotlib.colors.LinearSegmentedColormap.from_list(\"\", ['red', 'yellow', 'green'])\n",
        "\n",
        "def plot_map(dataset, column, subtitle_year, save=False):\n",
        "  merge=pd.merge(world,dataset,on='CODE')\n",
        "  ax = world.plot(figsize=(20,10), linewidth=0.25, edgecolor='white', color='lightgray')\n",
        "  ax.axis('off')\n",
        "  ax.set_facecolor('white')\n",
        "  ax.text(-175,112,'The happiest & unhappiest countries',fontsize=30,fontweight='bold')\n",
        "  ax.text(-175,102, '{} in {}'.format(column, subtitle_year), color='gray',fontsize=20)\n",
        "  merge.plot(column=column,figsize=(20, 15),legend=True,cmap=cmap,ax=ax)\n",
        "  if save:\n",
        "    if not os.path.isdir('image'):\n",
        "      os.mkdir('image')\n",
        "    plt.savefig('image/{}_{}.png'.format(column, subtitle_year))\n",
        "\n",
        "# Averaging the ladder score for each country\n",
        "df_merged_grouped = df_merged.groupby('Country name').mean().reset_index()\n",
        "df_geo = df_merged_grouped.copy()\n",
        "df_geo['CODE']=countryToCode(df_geo['Country name'])\n",
        "for column in attribute_list:\n",
        "  plot_map(df_geo, column, '2005-2021', save=True)\n",
        "\n",
        "for year in range(2005, 2022):\n",
        "  for column in attribute_list:\n",
        "    df_merged_temp = df_merged[df_merged['Year'] == year]\n",
        "    df_merged_temp['CODE']=countryToCode(df_merged_temp['Country name'])\n",
        "    plot_map(df_merged_temp, column, year, save=True)\n",
        "\n"
      ],
      "execution_count": null,
      "outputs": []
    },
    {
      "cell_type": "markdown",
      "metadata": {
        "id": "8v26fu1Y1V3e"
      },
      "source": [
        "Animate ladder scores on map by year"
      ]
    },
    {
      "cell_type": "code",
      "metadata": {
        "colab": {
          "background_save": true
        },
        "id": "PgVzEh4G94FL"
      },
      "source": [
        "# to animate the plots versus time\n",
        "import cv2\n",
        "import os\n",
        "\n",
        "fps = 1\n",
        "fourcc = cv2.VideoWriter_fourcc(*\"mp4v\")\n",
        "print(os.getcwd())\n",
        "# os.chdir('image')\n",
        "files = os.listdir()\n",
        "files.sort()\n",
        "\n",
        "for column in attribute_list:\n",
        "  temp_files = []\n",
        "  for file in files:\n",
        "    if column in file and file.endswith('.png'):\n",
        "      temp_files.append(file)\n",
        "  if not os.path.isdir('video'):\n",
        "    os.mkdir('video')\n",
        "  video_name = 'video/' + column + '.mp4'\n",
        "  videoWrite = cv2.VideoWriter(video_name, fourcc, fps, (1440, 720))\n",
        "  for file in temp_files:\n",
        "    img = cv2.imread(file)\n",
        "    videoWrite.write(img)\n",
        "  videoWrite.release()\n",
        "%cd '/content/drive/MyDrive/Colab Notebooks'"
      ],
      "execution_count": null,
      "outputs": []
    },
    {
      "cell_type": "markdown",
      "metadata": {
        "id": "D2udL4m7XTcY"
      },
      "source": [
        "# Data Analysis"
      ]
    },
    {
      "cell_type": "markdown",
      "metadata": {
        "id": "V4TPS3Bqq_WV"
      },
      "source": [
        "## Columns Relationship study - Pearson’s correlation coefficient"
      ]
    },
    {
      "cell_type": "code",
      "metadata": {
        "colab": {
          "background_save": true
        },
        "id": "0VjkUr_XZVLm"
      },
      "source": [
        "corrPearson = df_merged.corr(method=\"pearson\") \n",
        "corrSpearman = df_merged.corr(method=\"spearman\") \n",
        "figure = plt.figure(figsize=(25,10)) \n",
        "sns.heatmap(corrPearson,annot=True,vmin=-1,center=0,vmax=1) \n",
        "plt.title(\"PEARSON\") \n",
        "plt.xlabel(\"COLUMNS\") \n",
        "plt.xticks(fontsize=10, rotation=45) \n",
        "plt.ylabel(\"COLUMNS\") \n",
        "plt.show() "
      ],
      "execution_count": null,
      "outputs": []
    },
    {
      "cell_type": "markdown",
      "metadata": {
        "id": "a88M4cXt0wAY"
      },
      "source": [
        "## Pairwise Relationship Plots"
      ]
    },
    {
      "cell_type": "code",
      "metadata": {
        "id": "qwqnJ8bEjdaq"
      },
      "source": [
        "hap = df_merged.groupby('Country name')['Ladder score','Log GDP per capita','Social support','Healthy life expectancy at birth','Freedom to make life choices','Generosity','Perceptions of corruption'].mean().sort_values(by='Ladder score',ascending=False)[:10]\n",
        "hap.insert(0,'Happiness','Happiest')\n",
        "unhap = df_merged.groupby('Country name')['Ladder score','Log GDP per capita','Social support','Healthy life expectancy at birth','Freedom to make life choices','Generosity','Perceptions of corruption'].mean().sort_values(by='Ladder score',ascending=True)[:10]\n",
        "unhap.insert(0,'Happiness','Unhappiest')\n",
        "\n",
        "extreme_df_merge = pd.concat([hap,unhap])\n",
        "\n",
        "sns.pairplot(extreme_df_merge, hue=\"Happiness\")\n"
      ],
      "execution_count": null,
      "outputs": []
    },
    {
      "cell_type": "markdown",
      "metadata": {
        "id": "8OZi6Ln3qbcy"
      },
      "source": [
        "## Pairwise comparison by regions - Hypothesis T-Test"
      ]
    },
    {
      "cell_type": "code",
      "metadata": {
        "id": "rFBZAMZ_qYBE"
      },
      "source": [
        "def hypo_test(dataset,reg1,reg2):\n",
        "    r1 = dataset[dataset['Regional indicator']==reg1]['Ladder score']\n",
        "    r2 = dataset[dataset['Regional indicator']==reg2]['Ladder score']\n",
        "    title=\"Hypothesis testing between regions: {} vs {}\".format(reg1,reg2)\n",
        "    stats, p_value= ttest_ind(r1, r2, equal_var=False)\n",
        "\n",
        "    # if p_value <0.05:\n",
        "    #     result=\"Since P value: {} is < 0.05, we can reject the Null Hypothesis and concluded there are significant difference\".format(np.round(p_value,3))\n",
        "    # else:\n",
        "    #     result=\"P value: {} is >0.05, we can't reject the Null Hypothesis and concluded there are no difference\".format(np.round(p_value,3))\n",
        "    # print(title)\n",
        "    # print(result + '\\n')\n",
        "    return p_value\n",
        "\n",
        "regions = list(df_merged['Regional indicator'].unique())\n",
        "\n",
        "list1 = []\n",
        "for i in regions:\n",
        "  list2 = []\n",
        "  for j in regions:\n",
        "    list2.append(hypo_test(df_merged,i,j))\n",
        "  list1.append(list2)\n",
        "\n",
        "p_value_matrix = pd.DataFrame(list1, columns=regions, index=regions)\n",
        "figure = plt.figure(figsize=(25,10)) \n",
        "sns.heatmap(p_value_matrix,annot=True,vmin=-1,center=0,vmax=1)\n",
        "plt.title(\"Hypothesis t-test p-value\") \n",
        "plt.xlabel(\"Regional indicator\") \n",
        "plt.xticks(fontsize=10, rotation=45) \n",
        "plt.ylabel(\"Regional indicator\") \n",
        "plt.show() "
      ],
      "execution_count": null,
      "outputs": []
    },
    {
      "cell_type": "code",
      "metadata": {
        "id": "PVTyN7_z1c-1"
      },
      "source": [
        "background = \"#fbfbfb\"\n",
        "low_c = '#dd4124'\n",
        "high_c = '#009473'\n",
        "\n",
        "sample = df_merged[['Country name','Ladder score','Year']]\n",
        "\n",
        "seven = sample[sample['Year'] == 2007]\n",
        "seven.rename(columns={'Ladder score':'07_score'}, inplace=True)\n",
        "twenty = sample[sample['Year'] == 2020]\n",
        "twenty.rename(columns={'Ladder score':'20_score'}, inplace=True)\n",
        "\n",
        "seven = seven.set_index('Country name')\n",
        "\n",
        "twenty = twenty.set_index('Country name')\n",
        "\n",
        "combined = seven.merge(twenty, on='Country name', how='inner', suffixes=('_1', '_2'))\n",
        "\n",
        "combined['change'] = combined['20_score'] - combined['07_score']\n",
        "\n",
        "top_inc = combined.groupby('Country name')['change'].mean().sort_values(ascending=False)[:10]\n",
        "top_dec = combined.groupby('Country name')['change'].mean().sort_values(ascending=True)[:10]\n",
        "\n",
        "top_changes = top_inc.append(top_dec, ignore_index=False).sort_values(ascending=True)\n",
        "\n",
        "temp = combined.groupby('Country name')['07_score','20_score','change'].mean().sort_values(by='07_score',ascending=False).reset_index()\n",
        "\n",
        "sample = temp[(temp['Country name'] == 'Bulgaria') | (temp['Country name'] == 'Latvia') | (temp['Country name'] == 'Kyrgyzstan') | (temp['Country name'] == 'Jordan') \n",
        "   | (temp['Country name'] == 'Georgia') | (temp['Country name'] == 'Mongolia') | (temp['Country name'] == 'Serbia') | (temp['Country name'] == 'Kosovo')\n",
        "    | (temp['Country name'] == 'Estonia') | (temp['Country name'] == 'Hungary')]\n",
        "\n",
        "sample = sample.set_index('Country name')\n",
        "\n",
        "\n",
        "# https://www.machinelearningplus.com/plots/top-50-matplotlib-visualizations-the-master-plots-python/#18.-Slope-Chart\n",
        "\n",
        "import matplotlib.lines as mlines\n",
        "\n",
        "left_label = [str(c) + ', '+ str(round(y)) for c, y in zip(sample.index, sample['07_score'])]\n",
        "right_label = [str(c) + ', '+ str(round(y)) for c, y in zip(sample.index, sample['20_score'])]\n",
        "klass = [low_c if (y1-y2) < 0 else high_c for y1, y2 in zip(sample['07_score'], sample['20_score'])]\n",
        "\n",
        "# draw line\n",
        "# https://stackoverflow.com/questions/36470343/how-to-draw-a-line-with-matplotlib/36479941\n",
        "def newline(p1, p2, color='black'):\n",
        "    ax = plt.gca()\n",
        "    l = mlines.Line2D([p1[0],p2[0]], [p1[1],p2[1]], color=low_c if p1[1]-p2[1] > 0 else high_c, marker='o', markersize=6)\n",
        "    ax.add_line(l)\n",
        "    return l\n",
        "\n",
        "fig, ax = plt.subplots(1,1,figsize=(10,14), dpi= 150, facecolor=background_color)\n",
        "\n",
        "ax.set_facecolor(background_color)\n",
        "\n",
        "# Vertical Lines\n",
        "ax.vlines(x=1, ymin=0, ymax=9, color='black', alpha=0.7, linewidth=1, linestyles='dotted')\n",
        "ax.vlines(x=3, ymin=0, ymax=9, color='black', alpha=0.7, linewidth=1, linestyles='dotted')\n",
        "\n",
        "# Points\n",
        "ax.scatter(y=sample['07_score'], x=np.repeat(1, sample.shape[0]), s=75,linewidth=1.5, color='black', alpha=0.7)\n",
        "ax.scatter(y=sample['20_score'], x=np.repeat(3, sample.shape[0]), s=75, linewidth=1.5,color='black', alpha=0.7)\n",
        "\n",
        "# Line Segments and Annotation\n",
        "for p1, p2, c in zip(sample['07_score'], sample['20_score'], sample.index):\n",
        "    newline([1,p1], [3,p2])\n",
        "    ax.text(1-0.05, p1, c + ', ' + str(round(p1,1)), horizontalalignment='right', verticalalignment='center', fontdict={'size':14})\n",
        "    ax.text(3+0.05, p2, c + ', ' + str(round(p2,1)), horizontalalignment='left', verticalalignment='center', fontdict={'size':14})\n",
        "\n",
        "\n",
        "ax.text(0,8.75,\"Happiness Index scores 2007 - 2020\", fontsize=20, fontfamily='sansserif',fontweight='bold',color='#323232')\n",
        "ax.text(0,8.3, \n",
        "'''\n",
        "Here we see how a random sample performed over the years, \n",
        "6 out of 10 biggest ascents seen from Central and Eastern Europe\n",
        "(Bulgaria, Latvia, Serbia, Kosovo, Estonia, Hungary) ''', fontsize=12, fontweight='light', fontfamily='monospace',color='gray')\n",
        "\n",
        "\n",
        "ax.set(xlim=(0,4), ylim=(3,8.2), ylabel='')\n",
        "ax.set_xticks([1,3])\n",
        "ax.set_xticklabels([\"2007\", \"2020\"],fontsize=20)\n",
        "plt.yticks(np.arange(3, 8.2, 2), fontsize=12)\n",
        "\n",
        "for s in [\"top\",\"right\",\"left\",\"bottom\"]:\n",
        "    ax.spines[s].set_visible(False)\n",
        "    \n",
        "ax.tick_params(axis='both',which='both',left=False,bottom=False,labelleft=False) \n",
        "plt.rcParams[\"font.family\"] = \"monospace\"\n",
        "\n",
        "plt.show()"
      ],
      "execution_count": null,
      "outputs": []
    },
    {
      "cell_type": "markdown",
      "metadata": {
        "id": "rri5OxUmGmSL"
      },
      "source": [
        "# Simple Linear Regression"
      ]
    },
    {
      "cell_type": "code",
      "metadata": {
        "id": "uEgDLYaxc63P"
      },
      "source": [
        "# Try to separate into different year and animate the plots\n",
        "df_merged = pd.read_csv(\"merged-world-happiness-dataset.csv\", engine='python')\n",
        "regression_df = df_merged.copy()\n",
        "\n",
        "for year in range(2005, 2022):\n",
        "  temp_regression_df = regression_df[regression_df['Year'] == year]\n",
        "  attributes = list(regression_df.columns)[4:]\n",
        "  trainset = []\n",
        "  testset = []\n",
        "\n",
        "  for item in attributes:\n",
        "    train_df = df_merged[[\"Ladder score\", item]]\n",
        "    temp_trainset, temp_testset = train_test_split(train_df, train_size=0.8)\n",
        "    trainset.append(temp_trainset)\n",
        "    testset.append(temp_testset)\n",
        "\n",
        "  fitset = {}\n",
        "  for k, item in enumerate(attributes):\n",
        "    X_train = np.array(trainset[k][item], dtype=pd.Series).reshape(-1,1)\n",
        "    Y_train = np.array(trainset[k][\"Ladder score\"], dtype=pd.Series)\n",
        "    X_test = np.array(testset[k][item], dtype=pd.Series).reshape(-1,1)\n",
        "    Y_test = np.array(testset[k][\"Ladder score\"], dtype=pd.Series)\n",
        "    lr = LinearRegression()\n",
        "    lr.fit(X_train, Y_train)\n",
        "    fitset.update({item: [X_train, Y_train, X_test, Y_test, lr]})\n",
        "\n",
        "  for column in ['Log GDP per capita', 'Social support', 'Healthy life expectancy at birth', 'Freedom to make life choices', 'Generosity', 'Perceptions of corruption']:\n",
        "    X_train, Y_train, X_test, Y_test, lr = fitset[column]\n",
        "    sns.set_style(style=\"whitegrid\")\n",
        "    plt.figure(figsize=(12,6))\n",
        "    plt.scatter(X_train, Y_train, color=\"blue\", label=\"Train set\", s=12)\n",
        "    plt.scatter(X_test, Y_test, color=\"orange\", label=\"Test set\", s=12)\n",
        "    plt.plot(X_test, lr.predict(X_test), color=\"red\", label=\"Linear Regression Model\")\n",
        "    plt.xlabel(column, fontsize=15)\n",
        "    plt.ylabel(\"Ladder score\", fontsize=15)\n",
        "    R_sq = lr.score(X_test, Y_test)\n",
        "    plt.annotate('R-sqaure = {}'.format(round(R_sq, 3)), xy=(0.5, 0.05) , xycoords='axes fraction')\n",
        "    plt.xticks(fontsize=13)\n",
        "    plt.yticks(fontsize=13)\n",
        "    plt.legend()\n",
        "    plt.title(\"Linear regression of Ladder score against {} in {}\".format(column, year))\n",
        "    if not os.path.isdir('image_linear_regression'):\n",
        "      os.mkdir('image_linear_regression')\n",
        "    plt.savefig('image_linear_regression/{}_{}.png'.format(column, year))\n",
        "\n"
      ],
      "execution_count": null,
      "outputs": []
    },
    {
      "cell_type": "code",
      "metadata": {
        "id": "oVyxBhFyjEtR"
      },
      "source": [
        "fps = 1\n",
        "fourcc = cv2.VideoWriter_fourcc(*\"mp4v\")\n",
        "print(os.getcwd())\n",
        "os.chdir('image_linear_regression')\n",
        "files = os.listdir()\n",
        "files.sort()\n",
        "print(files)\n",
        "\n",
        "for column in ['Log GDP per capita', 'Social support', 'Healthy life expectancy at birth', 'Freedom to make life choices', 'Generosity', 'Perceptions of corruption']:\n",
        "  temp_files = []\n",
        "  for file in files:\n",
        "    if column in file and file.endswith('.png'):\n",
        "      temp_files.append(file)\n",
        "  print(temp_files)\n",
        "  if not os.path.isdir('video'):\n",
        "    os.mkdir('video')\n",
        "  video_name = 'video/' + column + '.mp4'\n",
        "  videoWrite = cv2.VideoWriter(video_name, fourcc, fps, (864, 432))\n",
        "  for file in temp_files:\n",
        "    img = cv2.imread(file)\n",
        "    videoWrite.write(img)\n",
        "  videoWrite.release()\n",
        "%cd '/content/drive/MyDrive/Colab Notebooks'"
      ],
      "execution_count": null,
      "outputs": []
    },
    {
      "cell_type": "code",
      "metadata": {
        "id": "Z3-yRbu4PHlk"
      },
      "source": [
        "df_merged = pd.read_csv(\"merged-world-happiness-dataset.csv\", engine='python')\n",
        "df_merged.head(5)"
      ],
      "execution_count": null,
      "outputs": []
    },
    {
      "cell_type": "code",
      "metadata": {
        "id": "571lIfIR1Az1"
      },
      "source": [
        "regression_df = df_merged.copy()\n",
        "attributes = list(regression_df.columns)[4:]\n",
        "trainset = []\n",
        "testset = []\n",
        "\n",
        "for item in attributes:\n",
        "  train_df = df_merged[[\"Ladder score\", item]]\n",
        "  temp_trainset, temp_testset = train_test_split(train_df, train_size=0.8)\n",
        "  trainset.append(temp_trainset)\n",
        "  testset.append(temp_testset)"
      ],
      "execution_count": null,
      "outputs": []
    },
    {
      "cell_type": "code",
      "metadata": {
        "id": "ULak5Jq6BEkV"
      },
      "source": [
        "fitset = {}\n",
        "for k, item in enumerate(attributes):\n",
        "  X_train = np.array(trainset[k][item], dtype=pd.Series).reshape(-1,1)\n",
        "  Y_train = np.array(trainset[k][\"Ladder score\"], dtype=pd.Series)\n",
        "  X_test = np.array(testset[k][item], dtype=pd.Series).reshape(-1,1)\n",
        "  Y_test = np.array(testset[k][\"Ladder score\"], dtype=pd.Series)\n",
        "  lr = LinearRegression()\n",
        "  lr.fit(X_train, Y_train)\n",
        "  fitset.update({item: [X_train, Y_train, X_test, Y_test, lr]})"
      ],
      "execution_count": null,
      "outputs": []
    },
    {
      "cell_type": "markdown",
      "metadata": {
        "id": "nBtOnHeRSGaQ"
      },
      "source": [
        "## Log GDP per capita"
      ]
    },
    {
      "cell_type": "code",
      "metadata": {
        "id": "WKpTMpzpWjyo"
      },
      "source": [
        "X_train, Y_train, X_test, Y_test, lr = fitset[\"Log GDP per capita\"]\n",
        "\n",
        "sns.set_style(style=\"whitegrid\")\n",
        "\n",
        "plt.figure(figsize=(12,6))\n",
        "plt.scatter(X_train, Y_train, color=\"blue\", label=\"Train set\", s=12)\n",
        "plt.scatter(X_test, Y_test, color=\"orange\", label=\"Test set\", s=12)\n",
        "plt.plot(X_test, lr.predict(X_test), color=\"red\", label=\"Linear Regression Model\")\n",
        "plt.xlabel(\"Log GDP per capita\", fontsize=15)\n",
        "plt.ylabel(\"Ladder score\", fontsize=15)\n",
        "plt.xticks(fontsize=13)\n",
        "plt.yticks(fontsize=13)\n",
        "plt.legend()\n",
        "plt.title(\"Linear regression of Ladder score against Log GDP per capita\")"
      ],
      "execution_count": null,
      "outputs": []
    },
    {
      "cell_type": "code",
      "metadata": {
        "id": "URPCATgcxn1w"
      },
      "source": [
        "# Review the linear regression model\n",
        "\n",
        "print(\"The Linear model is: Ladder Score = {} + {} x Log GDP per capita\".format(lr.intercept_, lr.coef_))\n",
        "R_sq = lr.score(X_test, Y_test)\n",
        "print(\"The R square = {}\".format(R_sq))"
      ],
      "execution_count": null,
      "outputs": []
    },
    {
      "cell_type": "markdown",
      "metadata": {
        "id": "AkF6xA6mkyuQ"
      },
      "source": [
        "## Social support"
      ]
    },
    {
      "cell_type": "code",
      "metadata": {
        "id": "PTmjIIyXlr8s"
      },
      "source": [
        "X_train, Y_train, X_test, Y_test, lr = fitset[\"Social support\"]\n",
        "\n",
        "sns.set_style(style=\"whitegrid\")\n",
        "\n",
        "plt.figure(figsize=(12,6))\n",
        "plt.scatter(X_train, Y_train, color=\"blue\", label=\"Train set\", s=12)\n",
        "plt.scatter(X_test, Y_test, color=\"orange\", label=\"Test set\", s=12)\n",
        "plt.plot(X_test, lr.predict(X_test), color=\"red\", label=\"Linear Regression Model\")\n",
        "plt.xlabel(\"Social support\", fontsize=15)\n",
        "plt.ylabel(\"Ladder score\", fontsize=15)\n",
        "plt.xticks(fontsize=13)\n",
        "plt.yticks(fontsize=13)\n",
        "plt.legend()\n",
        "plt.title(\"Linear regression of Ladder score against Social support\")"
      ],
      "execution_count": null,
      "outputs": []
    },
    {
      "cell_type": "code",
      "metadata": {
        "id": "D2oXn4RRYSnh"
      },
      "source": [
        "# Review the linear regression model\n",
        "\n",
        "print(\"The Linear model is: Ladder Score = {} + {} x Social support\".format(lr.intercept_, lr.coef_))\n",
        "R_sq = lr.score(X_test, Y_test)\n",
        "print(\"The R square = {}\".format(R_sq))"
      ],
      "execution_count": null,
      "outputs": []
    },
    {
      "cell_type": "markdown",
      "metadata": {
        "id": "tJNS7C0JrEsq"
      },
      "source": [
        "## Healthy life expectancy at birth"
      ]
    },
    {
      "cell_type": "code",
      "metadata": {
        "id": "IoKv9xmlYffF"
      },
      "source": [
        "X_train, Y_train, X_test, Y_test, lr = fitset[\"Healthy life expectancy at birth\"]\n",
        "\n",
        "sns.set_style(style=\"whitegrid\")\n",
        "\n",
        "plt.figure(figsize=(12,6))\n",
        "plt.scatter(X_train, Y_train, color=\"blue\", label=\"Train set\", s=12)\n",
        "plt.scatter(X_test, Y_test, color=\"orange\", label=\"Test set\", s=12)\n",
        "plt.plot(X_test, lr.predict(X_test), color=\"red\", label=\"Linear Regression Model\")\n",
        "plt.xlabel(\"Healthy life expectancy at birth\", fontsize=15)\n",
        "plt.ylabel(\"Ladder score\", fontsize=15)\n",
        "plt.xticks(fontsize=13)\n",
        "plt.yticks(fontsize=13)\n",
        "plt.legend()\n",
        "plt.title(\"Linear regression of Ladder score against Healthy life expectancy at birth\")"
      ],
      "execution_count": null,
      "outputs": []
    },
    {
      "cell_type": "code",
      "metadata": {
        "id": "wTNH5-OwYoww"
      },
      "source": [
        "# Review the linear regression model\n",
        "\n",
        "print(\"The Linear model is: Ladder Score = {} + {} x Healthy life expectancy at birth\".format(lr.intercept_, lr.coef_))\n",
        "R_sq = lr.score(X_test, Y_test)\n",
        "print(\"The R square = {}\".format(R_sq))"
      ],
      "execution_count": null,
      "outputs": []
    },
    {
      "cell_type": "markdown",
      "metadata": {
        "id": "Eqha3WQu8Q5J"
      },
      "source": [
        "## Freedom to make life choices"
      ]
    },
    {
      "cell_type": "code",
      "metadata": {
        "id": "AAL179KSY94t"
      },
      "source": [
        "X_train, Y_train, X_test, Y_test, lr = fitset[\"Freedom to make life choices\"]\n",
        "\n",
        "sns.set_style(style=\"whitegrid\")\n",
        "\n",
        "plt.figure(figsize=(12,6))\n",
        "plt.scatter(X_train, Y_train, color=\"blue\", label=\"Train set\", s=12)\n",
        "plt.scatter(X_test, Y_test, color=\"orange\", label=\"Test set\", s=12)\n",
        "plt.plot(X_test, lr.predict(X_test), color=\"red\", label=\"Linear Regression Model\")\n",
        "plt.xlabel(\"Freedom to make life choices\", fontsize=15)\n",
        "plt.ylabel(\"Ladder score\", fontsize=15)\n",
        "plt.xticks(fontsize=13)\n",
        "plt.yticks(fontsize=13)\n",
        "plt.legend()\n",
        "plt.title(\"Linear regression of Ladder score against Freedom to make life choices\")"
      ],
      "execution_count": null,
      "outputs": []
    },
    {
      "cell_type": "code",
      "metadata": {
        "id": "tqvv4hPvZBST"
      },
      "source": [
        "# Review the linear regression model\n",
        "\n",
        "print(\"The Linear model is: Ladder Score = {} + {} x Freedom to make life choices\".format(lr.intercept_, lr.coef_))\n",
        "R_sq = lr.score(X_test, Y_test)\n",
        "print(\"The R square = {}\".format(R_sq))"
      ],
      "execution_count": null,
      "outputs": []
    },
    {
      "cell_type": "markdown",
      "metadata": {
        "id": "Rwnfxnw39Ida"
      },
      "source": [
        "## Generosity"
      ]
    },
    {
      "cell_type": "code",
      "metadata": {
        "id": "r_tnQ2NwZMgK"
      },
      "source": [
        "X_train, Y_train, X_test, Y_test, lr = fitset[\"Generosity\"]\n",
        "\n",
        "sns.set_style(style=\"whitegrid\")\n",
        "\n",
        "plt.figure(figsize=(12,6))\n",
        "plt.scatter(X_train, Y_train, color=\"blue\", label=\"Train set\", s=12)\n",
        "plt.scatter(X_test, Y_test, color=\"orange\", label=\"Test set\", s=12)\n",
        "plt.plot(X_test, lr.predict(X_test), color=\"red\", label=\"Linear Regression Model\")\n",
        "plt.xlabel(\"Generosity\", fontsize=15)\n",
        "plt.ylabel(\"Ladder score\", fontsize=15)\n",
        "plt.xticks(fontsize=13)\n",
        "plt.yticks(fontsize=13)\n",
        "plt.legend()\n",
        "plt.title(\"Linear regression of Ladder score against Generosity\")"
      ],
      "execution_count": null,
      "outputs": []
    },
    {
      "cell_type": "code",
      "metadata": {
        "id": "H6DzsGv4ZUzE"
      },
      "source": [
        "# Review the linear regression model\n",
        "\n",
        "print(\"The Linear model is: Ladder Score = {} + {} x Generosity\".format(lr.intercept_, lr.coef_))\n",
        "R_sq = lr.score(X_test, Y_test)\n",
        "print(\"The R square = {}\".format(R_sq))"
      ],
      "execution_count": null,
      "outputs": []
    },
    {
      "cell_type": "markdown",
      "metadata": {
        "id": "amYai2ej8F0e"
      },
      "source": [
        "## Perceptions of corruption"
      ]
    },
    {
      "cell_type": "code",
      "metadata": {
        "id": "vEWjV8b4ZaIH"
      },
      "source": [
        "X_train, Y_train, X_test, Y_test, lr = fitset[\"Perceptions of corruption\"]\n",
        "\n",
        "sns.set_style(style=\"whitegrid\")\n",
        "\n",
        "plt.figure(figsize=(12,6))\n",
        "plt.scatter(X_train, Y_train, color=\"blue\", label=\"Train set\", s=12)\n",
        "plt.scatter(X_test, Y_test, color=\"orange\", label=\"Test set\", s=12)\n",
        "plt.plot(X_test, lr.predict(X_test), color=\"red\", label=\"Linear Regression Model\")\n",
        "plt.xlabel(\"Perceptions of corruption\", fontsize=15)\n",
        "plt.ylabel(\"Ladder score\", fontsize=15)\n",
        "plt.xticks(fontsize=13)\n",
        "plt.yticks(fontsize=13)\n",
        "plt.legend()\n",
        "plt.title(\"Linear regression of Ladder score against Perceptions of corruption\")"
      ],
      "execution_count": null,
      "outputs": []
    },
    {
      "cell_type": "code",
      "metadata": {
        "id": "rttc7PfqZbDw"
      },
      "source": [
        "# Review the linear regression model\n",
        "\n",
        "print(\"The Linear model is: Ladder Score = {} + {} x Perceptions of corruption\".format(lr.intercept_, lr.coef_))\n",
        "R_sq = lr.score(X_test, Y_test)\n",
        "print(\"The R square = {}\".format(R_sq))"
      ],
      "execution_count": null,
      "outputs": []
    },
    {
      "cell_type": "markdown",
      "metadata": {
        "id": "fx4cpMtGr7oi"
      },
      "source": [
        "# Multiple Linear Regression"
      ]
    },
    {
      "cell_type": "code",
      "metadata": {
        "id": "lsxbGhBHLku1"
      },
      "source": [
        "df_merged = pd.read_csv('merged-world-happiness-dataset.csv', engine='python')\n",
        "df_merged.head(5)"
      ],
      "execution_count": null,
      "outputs": []
    },
    {
      "cell_type": "code",
      "metadata": {
        "id": "G84sjVXTMDsS"
      },
      "source": [
        "regression_df = df_merged.copy()\n",
        "attributes = list(regression_df.columns)[4:]\n",
        "train_df = regression_df[[\"Ladder score\"] + attributes]\n",
        "trainset, testset = train_test_split(train_df, train_size=0.8)\n",
        "\n",
        "X_train = np.array(trainset[attributes], dtype=pd.Series).astype('float')\n",
        "Y_train = np.array(trainset[\"Ladder score\"], dtype=pd.Series).astype('float')\n",
        "X_test = np.array(testset[attributes], dtype=pd.Series).astype('float')\n",
        "Y_test = np.array(testset[\"Ladder score\"], dtype=pd.Series).astype('float')"
      ],
      "execution_count": null,
      "outputs": []
    },
    {
      "cell_type": "markdown",
      "metadata": {
        "id": "hO6Y5UhNWkfZ"
      },
      "source": [
        "## Model Building"
      ]
    },
    {
      "cell_type": "code",
      "metadata": {
        "id": "pV8jS9M0sdP8"
      },
      "source": [
        "def build_model():\n",
        "  input_layer = tf.keras.layers.Input(shape=6)\n",
        "  #layer1 = tf.keras.layers.Dense(10, activation='relu')(input_layer)\n",
        "  #layer2 = tf.keras.layers.Dense(10, activation='relu')(layer1)\n",
        "  y_pred = tf.keras.layers.Dense(1)(input_layer)\n",
        "  model = tf.keras.models.Model(inputs=input_layer, outputs=y_pred)\n",
        "  model.compile(loss='mean_absolute_error',\n",
        "                optimizer=tf.keras.optimizers.Adam(1e-3),\n",
        "                metrics='mse')\n",
        "  model.summary()\n",
        "  return model\n",
        "\n",
        "def plot_loss(history):\n",
        "  plt.plot(history.history['loss'], label='loss')\n",
        "  plt.plot(history.history['val_loss'], label='val_loss')\n",
        "  plt.xlabel('Epoch')\n",
        "  plt.ylabel('Error [Score]')\n",
        "  plt.ylim((0,2))\n",
        "  plt.legend()\n",
        "  plt.grid(True)"
      ],
      "execution_count": null,
      "outputs": []
    },
    {
      "cell_type": "code",
      "metadata": {
        "id": "v_McQS8_K938"
      },
      "source": [
        "model = build_model()"
      ],
      "execution_count": null,
      "outputs": []
    },
    {
      "cell_type": "markdown",
      "metadata": {
        "id": "LpsS_RaBWn3u"
      },
      "source": [
        "## Fitting Data into Model"
      ]
    },
    {
      "cell_type": "code",
      "metadata": {
        "id": "DDB3wA8KLdUe"
      },
      "source": [
        "earlystop = tf.keras.callbacks.EarlyStopping(monitor='val_loss', patience=10, verbose=2)\n",
        "callback = [earlystop]\n",
        "history = model.fit(X_train, Y_train, batch_size=8, epochs=1000, callbacks=callback,\n",
        "          verbose=2, validation_data=(X_test, Y_test))"
      ],
      "execution_count": null,
      "outputs": []
    },
    {
      "cell_type": "markdown",
      "metadata": {
        "id": "grBRPFLCWsed"
      },
      "source": [
        "## Regression Result"
      ]
    },
    {
      "cell_type": "code",
      "metadata": {
        "id": "kru1Q4KpQbRx"
      },
      "source": [
        "plot_loss(history)"
      ],
      "execution_count": null,
      "outputs": []
    },
    {
      "cell_type": "code",
      "metadata": {
        "id": "U7yjxSSP1Q-L"
      },
      "source": [
        "weights, bias = model.get_weights()\n",
        "print('Happiness score = ',np.round(bias[0],4),\n",
        "      '+',np.round(weights[0],4),'∗ GDP',\n",
        "      '+',np.round(weights[1],4),'* Suport', \n",
        "      '+',np.round(weights[2],4),'* Health',\n",
        "      '+',np.round(weights[3],4),'* Freedom',\n",
        "       '+',np.round(weights[4],4),'* Generosity',\n",
        "      '+',np.round(weights[5],4),'* Corrption')\n",
        "y_pred = model.predict(X_test)\n",
        "\n",
        "# Compute R square value\n",
        "SSR = np.mean(np.square(y_pred-np.mean(Y_test)))\n",
        "SST = np.mean(np.square(Y_test-np.mean(Y_test)))\n",
        "R_sq = SSR/SST\n",
        "print(\"The R square value: \", R_sq)"
      ],
      "execution_count": null,
      "outputs": []
    },
    {
      "cell_type": "markdown",
      "metadata": {
        "id": "xqlGqbTUDIaj"
      },
      "source": [
        "# Clustering"
      ]
    },
    {
      "cell_type": "code",
      "metadata": {
        "id": "QDScjrTEEF5V"
      },
      "source": [
        "df_merged = pd.read_csv('merged-world-happiness-dataset.csv', engine='python')\n",
        "df_merged.head(5)"
      ],
      "execution_count": null,
      "outputs": []
    },
    {
      "cell_type": "code",
      "metadata": {
        "id": "w7sI-qiGDmpy"
      },
      "source": [
        "clustering_df = df_merged.copy()\n",
        "clustering_df = clustering_df[['Country name', 'Ladder score', 'Log GDP per capita','Social support', \n",
        "                               'Healthy life expectancy at birth', 'Freedom to make life choices',\n",
        "                               'Generosity','Perceptions of corruption']]\n",
        "X = clustering_df.drop(columns='Country name')\n",
        "X.head(5)"
      ],
      "execution_count": null,
      "outputs": []
    },
    {
      "cell_type": "markdown",
      "metadata": {
        "id": "7MyEg_g-DUQu"
      },
      "source": [
        "## Standardization"
      ]
    },
    {
      "cell_type": "code",
      "metadata": {
        "id": "MSeuTJrQDR6v"
      },
      "source": [
        "scaler = StandardScaler()\n",
        "X_transformed = scaler.fit_transform(X)\n",
        "X_transformed = pd.DataFrame(data=X_transformed, columns=X.columns)\n",
        "X_transformed.describe()"
      ],
      "execution_count": null,
      "outputs": []
    },
    {
      "cell_type": "code",
      "metadata": {
        "id": "Qfs0NRmWB4Ju"
      },
      "source": [
        "fig, (ax1, ax2) = plt.subplots(1,2,figsize=(12,4))\n",
        "\n",
        "sns.histplot(X, kde=True, ax=ax1)\n",
        "ax1.set_title('Before Standardization')\n",
        "\n",
        "sns.histplot(X_transformed, kde=True, ax=ax2, legend=False)\n",
        "ax2.set_title('After Standardization');"
      ],
      "execution_count": null,
      "outputs": []
    },
    {
      "cell_type": "markdown",
      "metadata": {
        "id": "XNlVkdPSFf1s"
      },
      "source": [
        "## Hyperparameter Tuning"
      ]
    },
    {
      "cell_type": "code",
      "metadata": {
        "id": "iyv7XckGFcP4"
      },
      "source": [
        "ssd = []\n",
        "\n",
        "for i in range(2,10):\n",
        "  model = KMeans(n_clusters=i, random_state=4)\n",
        "  model.fit(X_transformed)\n",
        "  ssd.append(model.inertia_)\n",
        "\n",
        "sns.lineplot(x=range(2,10), y=ssd, marker=\"o\")\n",
        "plt.title('Sum of squared distances of samples to their closest cluster center')\n",
        "plt.xlabel('Number of clusters')\n",
        "plt.ylabel('SSD');"
      ],
      "execution_count": null,
      "outputs": []
    },
    {
      "cell_type": "markdown",
      "metadata": {
        "id": "aw09EfjjF49m"
      },
      "source": [
        "4/5 is observed to be our optimal k."
      ]
    },
    {
      "cell_type": "code",
      "metadata": {
        "id": "QFl266NiuoVj"
      },
      "source": [
        "kl = KneeLocator(range(2,10), ssd, curve=\"convex\", direction=\"decreasing\")\n",
        "kl.elbow"
      ],
      "execution_count": null,
      "outputs": []
    },
    {
      "cell_type": "markdown",
      "metadata": {
        "id": "ssUVABV-FzNC"
      },
      "source": [
        "## Clustering Result"
      ]
    },
    {
      "cell_type": "code",
      "metadata": {
        "id": "87FKkPhfFq63"
      },
      "source": [
        "model = KMeans(n_clusters=4, random_state=4)\n",
        "cluster = model.fit_predict(X_transformed)\n",
        "\n",
        "clustering_df['cluster'] = cluster\n",
        "clustering_df.head(5)"
      ],
      "execution_count": null,
      "outputs": []
    },
    {
      "cell_type": "code",
      "metadata": {
        "id": "_i_zK59eF9rr"
      },
      "source": [
        "fig = plt.figure(figsize=(15,10))\n",
        "fig.add_subplot(311)\n",
        "sns.kdeplot(clustering_df['Ladder score'], fill=True, hue=clustering_df.cluster, legend=True)\n",
        "\n",
        "for i, column in enumerate(clustering_df.columns[2:8], 4):\n",
        "    fig.add_subplot(3,3,i)\n",
        "    sns.kdeplot(clustering_df[column], fill=True, hue=clustering_df.cluster, legend=False)\n",
        "\n",
        "fig.tight_layout()\n",
        "fig.subplots_adjust(top=0.85)\n",
        "fig.suptitle('K-Means Clustering Result', fontsize=20, fontweight='bold', y=0.9);"
      ],
      "execution_count": null,
      "outputs": []
    },
    {
      "cell_type": "code",
      "metadata": {
        "id": "PtAGwGWUdtid"
      },
      "source": [
        "# for visualisation purpose\n",
        "clustering_df['Constant'] = 'Data'"
      ],
      "execution_count": null,
      "outputs": []
    },
    {
      "cell_type": "code",
      "metadata": {
        "id": "cYhzshPSSD2i"
      },
      "source": [
        "fig = plt.figure(figsize=(18,5))\n",
        "fig.suptitle('Strip plots for ladder score and each factors (K-means Clustering)', fontsize=20, fontweight='bold')\n",
        "fig.add_subplot(171)\n",
        "ax = sns.stripplot(x=clustering_df['Constant'],y=clustering_df['Ladder score'].values,hue=clustering_df['cluster'],jitter=True)\n",
        "ax.set_title('Ladder score')\n",
        "ax.set(xlabel=None)\n",
        "ax.set(xticklabels=[])\n",
        "ax.legend_.remove()\n",
        "\n",
        "for i, column in enumerate(clustering_df.columns[2:8], 2):\n",
        "    fig.add_subplot(1,7,i)\n",
        "    ax = sns.stripplot(x=clustering_df['Constant'],y=clustering_df[column].values,hue=clustering_df['cluster'],jitter=True)\n",
        "    ax.set_title(column)\n",
        "    ax.set(xlabel=None)\n",
        "    ax.set(xticklabels=[])\n",
        "    if i != 7:\n",
        "      ax.legend_.remove()\n",
        "\n",
        "fig.tight_layout()\n",
        "fig.subplots_adjust(top=0.85)"
      ],
      "execution_count": null,
      "outputs": []
    },
    {
      "cell_type": "code",
      "metadata": {
        "id": "S88mkI7RT5p6"
      },
      "source": [
        "fig = plt.figure(figsize=(18,10))\n",
        "fig.suptitle('Swarm plots for ladder score and each factors (K-Means Clustering)', fontsize=20, fontweight='bold', y=0.9)\n",
        "fig.add_subplot(311)\n",
        "ax = sns.swarmplot(x=clustering_df['Constant'],y=clustering_df['Ladder score'].values,hue=clustering_df['cluster'])\n",
        "ax.set_title('Ladder score')\n",
        "ax.set(xlabel=None)\n",
        "ax.set(xticklabels=[])\n",
        "\n",
        "for i, column in enumerate(clustering_df.columns[2:8], 4):\n",
        "    fig.add_subplot(3,3,i)\n",
        "    ax = sns.swarmplot(x=clustering_df['Constant'],y=clustering_df[column].values,hue=clustering_df['cluster'])\n",
        "    ax.set_title(column)\n",
        "    ax.set(xlabel=None)\n",
        "    ax.set(xticklabels=[])\n",
        "    ax.legend_.remove()\n",
        "\n",
        "fig.tight_layout()\n",
        "fig.subplots_adjust(top=0.85)"
      ],
      "execution_count": null,
      "outputs": []
    },
    {
      "cell_type": "code",
      "metadata": {
        "id": "9SFEqB4jdVKO"
      },
      "source": [
        "!pip install geopandas"
      ],
      "execution_count": null,
      "outputs": []
    },
    {
      "cell_type": "code",
      "metadata": {
        "id": "4Rqvn1OORcUl"
      },
      "source": [
        "import geopandas as gpd\n",
        "\n",
        "world = gpd.read_file(gpd.datasets.get_path('naturalearth_lowres'))\n",
        "world.head(5)"
      ],
      "execution_count": null,
      "outputs": []
    },
    {
      "cell_type": "code",
      "metadata": {
        "id": "RSQPpFdeSwFk"
      },
      "source": [
        "clustering_df.drop(columns='Constant', inplace=True)\n",
        "clustering_df.head(5)"
      ],
      "execution_count": null,
      "outputs": []
    },
    {
      "cell_type": "code",
      "metadata": {
        "id": "b8dvZAoidd_g"
      },
      "source": [
        "clustering_df = clustering_df.rename(columns={'Country name': 'name'})\n",
        "clustering_map_df = pd.merge(world, clustering_df, on='name')\n",
        "\n",
        "fig, ax = plt.subplots(figsize = (15, 5))\n",
        "ax.set_title(\"Clusters of Countries (K Means Clustering Model)\")\n",
        "clustering_map_df.plot(column='cluster', ax = ax, legend=True, legend_kwds={'label': \"cluster\"});"
      ],
      "execution_count": null,
      "outputs": []
    }
  ]
}